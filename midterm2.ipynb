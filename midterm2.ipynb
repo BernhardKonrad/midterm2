{
 "metadata": {
  "name": "",
  "signature": "sha256:a81f21d52adfc2f3cbffa2bc6a3f73c00fe051c335fe980263c49b64afe980b0"
 },
 "nbformat": 3,
 "nbformat_minor": 0,
 "worksheets": [
  {
   "cells": [
    {
     "cell_type": "code",
     "collapsed": false,
     "input": [
      "import numpy as np\n",
      "import matplotlib.pyplot as plt\n",
      "%pylab inline\n",
      "\n",
      "fin = open('midterm2.csv', 'r')\n",
      "all_grades = []\n",
      "for line in fin:\n",
      "    all_grades.append(float(line.strip()))\n",
      "\n",
      "plt.hist(np.asarray(all_grades))\n",
      "plt.show()"
     ],
     "language": "python",
     "metadata": {},
     "outputs": [
      {
       "output_type": "stream",
       "stream": "stdout",
       "text": [
        "Populating the interactive namespace from numpy and matplotlib\n"
       ]
      },
      {
       "metadata": {},
       "output_type": "display_data",
       "png": "[encoded data removed]",
       "text": [
        "<matplotlib.figure.Figure at 0x2b72050>"
       ]
      }
     ],
     "prompt_number": 10
    },
    {
     "cell_type": "code",
     "collapsed": false,
     "input": [],
     "language": "python",
     "metadata": {},
     "outputs": []
    }
   ],
   "metadata": {}
  }
 ]
}